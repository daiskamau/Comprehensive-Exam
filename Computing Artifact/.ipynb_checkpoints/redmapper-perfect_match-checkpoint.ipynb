{
 "cells": [
  {
   "cell_type": "markdown",
   "id": "3ed19daf-f734-4cab-b948-99232cae028b",
   "metadata": {},
   "source": [
    "# Merging reMaPPer catalog with cosmoDC2 Halos\n",
    "\n",
    "This notebook details extraction of the redMaPPer cosmoDC2 catalog from <a href='https://github.com/LSSTDESC/gcr-catalogs'> Generic Catalog Reader (GCR)</a>. It also demomstrates how we joined the extracted redMaPPer cluster catalog to the cosmoDC2 halos."
   ]
  },
  {
   "cell_type": "markdown",
   "id": "11d6b192-a970-499b-a88d-8d9759194d6b",
   "metadata": {},
   "source": [
    "## Loading Python Packages"
   ]
  },
  {
   "cell_type": "code",
   "execution_count": 8,
   "id": "02fb2d9f-df88-43c4-a3e5-71bdd0c4dd7e",
   "metadata": {},
   "outputs": [],
   "source": [
    "import numpy as np\n",
    "import pandas as pd\n",
    "\n",
    "import GCRCatalogs as gcr\n",
    "import astropy\n",
    "from astropy.table import Table, setdiff, vstack\n",
    "\n",
    "import matplotlib.pyplot as plt\n",
    "\n",
    "path = r\"/global/u1/k/kamau/SE-CLMM-LSSTDESC/cosmoDC2/Data/\""
   ]
  },
  {
   "cell_type": "markdown",
   "id": "3fc2eb4f-2e13-40d3-aa66-e9427ea49c17",
   "metadata": {},
   "source": [
    "## Loading cosmoDC2 redMaPPer Catalog\n",
    "\n",
    "The catalog has a total of 51 properties, 30 are cluster quantities and 21 are member quantities."
   ]
  },
  {
   "cell_type": "code",
   "execution_count": 6,
   "id": "56f883bb-73a0-4d20-b09f-170f3e4682b6",
   "metadata": {},
   "outputs": [
    {
     "name": "stdout",
     "output_type": "stream",
     "text": [
      "Total number of quantities:  51 \n",
      "\n",
      "Number of cluster quantities:  30 \n",
      "\n",
      "List of the cluster quantities:  ['cluster_id', 'dec', 'dec_cen_0', 'dec_cen_1', 'dec_cen_2', 'dec_cen_3', 'dec_cen_4', 'id_cen_0', 'id_cen_1', 'id_cen_2', 'id_cen_3', 'id_cen_4', 'maskfrac', 'p_cen_0', 'p_cen_1', 'p_cen_2', 'p_cen_3', 'p_cen_4', 'ra', 'ra_cen_0', 'ra_cen_1', 'ra_cen_2', 'ra_cen_3', 'ra_cen_4', 'redshift', 'redshift_err', 'redshift_true_cg', 'richness', 'richness_err', 'scaleval'] \n",
      "\n",
      "Number of member quantities:  21 \n",
      "\n",
      "List of the member quantities:  ['cluster_id', 'dec', 'dec_cen_0', 'dec_cen_1', 'dec_cen_2', 'dec_cen_3', 'dec_cen_4', 'id_cen_0', 'id_cen_1', 'id_cen_2', 'id_cen_3', 'id_cen_4', 'maskfrac', 'p_cen_0', 'p_cen_1', 'p_cen_2', 'p_cen_3', 'p_cen_4', 'ra', 'ra_cen_0', 'ra_cen_1', 'ra_cen_2', 'ra_cen_3', 'ra_cen_4', 'redshift', 'redshift_err', 'redshift_true_cg', 'richness', 'richness_err', 'scaleval'] \n",
      "\n"
     ]
    }
   ],
   "source": [
    "redmapper = gcr.load_catalog('cosmoDC2_v1.1.4_redmapper_v0.7.5')\n",
    "\n",
    "quantities = np.sort(redmapper.list_all_quantities())\n",
    "print('Total number of quantities: ',len(quantities),'\\n')\n",
    "\n",
    "# Cluster quantities\n",
    "cl_quantities = [q for q in quantities if 'member' not in q]\n",
    "print('Number of cluster quantities: ',len(cl_quantities),'\\n')\n",
    "print('List of the cluster quantities: ', cl_quantities,'\\n')\n",
    "\n",
    "# Member quantities\n",
    "me_quantities = [q for q in quantities if 'member' in q]\n",
    "print('Number of member quantities: ',len(me_quantities),'\\n')\n",
    "print('List of the member quantities: ', cl_quantities,'\\n')"
   ]
  },
  {
   "cell_type": "markdown",
   "id": "2305f108-b983-424a-a454-e6b8c73a3a7c",
   "metadata": {},
   "source": [
    "We get the cluster id, location, redshift and richness of all the redMaPPer clusters that fall within the redshift of $0.2$ and $1$. We filter on redshift to be consistent with the range of halos redshift.\n",
    "\n",
    "To avoid extracting the redMaPPer clusters everytime we run the notebook, we save the clusters in a `.dat` file."
   ]
  },
  {
   "cell_type": "code",
   "execution_count": 11,
   "id": "2dc7825a-5ce1-43bf-bfc2-1bf81b6168cc",
   "metadata": {},
   "outputs": [
    {
     "name": "stdout",
     "output_type": "stream",
     "text": [
      "There are 2316 clusters in this mass and redshift range\n"
     ]
    },
    {
     "data": {
      "text/html": [
       "<i>Table length=7</i>\n",
       "<table id=\"table23456178902016\" class=\"table-striped table-bordered table-condensed\">\n",
       "<thead><tr><th>dec</th><th>redshift</th><th>ra</th><th>richness</th></tr></thead>\n",
       "<thead><tr><th>float64</th><th>float64</th><th>float64</th><th>float64</th></tr></thead>\n",
       "<tr><td>-31.166231318709762</td><td>0.7592644095420837</td><td>50.14426461602947</td><td>277.1413269042969</td></tr>\n",
       "<tr><td>-38.520252684731176</td><td>0.21942785382270813</td><td>50.413689701043914</td><td>258.75909423828125</td></tr>\n",
       "<tr><td>-31.72256107822755</td><td>0.5661893486976624</td><td>65.01104114333558</td><td>238.85134887695312</td></tr>\n",
       "<tr><td>-37.49569503313509</td><td>0.3318329155445099</td><td>60.730393791492105</td><td>233.45108032226562</td></tr>\n",
       "<tr><td>-33.910776924385665</td><td>0.7197199463844299</td><td>62.099644926211674</td><td>225.15237426757812</td></tr>\n",
       "<tr><td>-30.005844459734256</td><td>0.460032194852829</td><td>56.11935813268543</td><td>218.1808624267578</td></tr>\n",
       "<tr><td>-34.78613843770464</td><td>0.675169050693512</td><td>53.631943677541855</td><td>211.77377319335938</td></tr>\n",
       "</table>"
      ],
      "text/plain": [
       "<Table length=7>\n",
       "        dec               redshift              ra              richness     \n",
       "      float64             float64            float64            float64      \n",
       "------------------- ------------------- ------------------ ------------------\n",
       "-31.166231318709762  0.7592644095420837  50.14426461602947  277.1413269042969\n",
       "-38.520252684731176 0.21942785382270813 50.413689701043914 258.75909423828125\n",
       " -31.72256107822755  0.5661893486976624  65.01104114333558 238.85134887695312\n",
       " -37.49569503313509  0.3318329155445099 60.730393791492105 233.45108032226562\n",
       "-33.910776924385665  0.7197199463844299 62.099644926211674 225.15237426757812\n",
       "-30.005844459734256   0.460032194852829  56.11935813268543  218.1808624267578\n",
       " -34.78613843770464   0.675169050693512 53.631943677541855 211.77377319335938"
      ]
     },
     "execution_count": 11,
     "metadata": {},
     "output_type": "execute_result"
    }
   ],
   "source": [
    "# Reading the richness table\n",
    "zmin = 0.2 \n",
    "zmax = 1\n",
    "\n",
    "# clusters = Table(redmapper.get_quantities(['cluster_id','ra','dec','redshift','richness'], filters=[ f'redshift > {zmin}',f'redshift < {zmax}']))\n",
    "# clusters.write('clusters_redmapper.dat', format='ascii')\n",
    "clusters = Table.read(path+'halos/clusters_redmapper.dat', format='ascii')\n",
    "\n",
    "N_clusters = len(clusters['ra'])\n",
    "print(f'There are {N_clusters} clusters in this mass and redshift range')\n",
    "clusters.sort(keys='richness', reverse=True)\n",
    "clusters[:7]"
   ]
  },
  {
   "cell_type": "markdown",
   "id": "ed6b4410-76d1-4aa4-8403-e6089529daa6",
   "metadata": {},
   "source": [
    "**Cluster richness distribution**"
   ]
  },
  {
   "cell_type": "code",
   "execution_count": 12,
   "id": "3cbfc7c3-1074-45f6-bc14-e2910110db85",
   "metadata": {},
   "outputs": [
    {
     "name": "stdout",
     "output_type": "stream",
     "text": [
      "20.00348472595215 7\n"
     ]
    },
    {
     "data": {
      "image/png": "[encoded data removed]",
      "text/plain": [
       "<Figure size 432x288 with 1 Axes>"
      ]
     },
     "metadata": {
      "needs_background": "light"
     },
     "output_type": "display_data"
    }
   ],
   "source": [
    "# Plotting the richness distribution\n",
    "print(clusters['richness'].min(), len(clusters[clusters['richness']>200]))\n",
    "plt.hist(clusters['richness'], bins=12)\n",
    "plt.title('Richness Distribution')\n",
    "plt.yscale('log')\n",
    "plt.xlabel(r'$lambda (Richness)')\n",
    "plt.ylabel('Count')\n",
    "# plt.savefig('Images/Richness Distribution.jpg')\n",
    "plt.show()"
   ]
  },
  {
   "cell_type": "markdown",
   "id": "69ac884f-a045-4d5e-9032-27b773682ede",
   "metadata": {},
   "source": [
    "The minimum cluster richness is $20$. We have only $7$ clusters with richness greater than $200$."
   ]
  },
  {
   "cell_type": "markdown",
   "id": "23887d34-8e20-4162-b44c-284e7eab2ae0",
   "metadata": {},
   "source": [
    "## Joining redMaPPer clusters to the halos catalog\n",
    "\n",
    "There is a total of $184339$ halos and $2316$ redMaPPer cluster with assigned redshift and richness. We use `.join()` in the astropy python library to merge the two catalogs. We use location of the clusters to merge the two catalogs (`ra` and `dec`). We also proceed to show the number of halos and redMaPPer clusters that were not perfectly matched."
   ]
  },
  {
   "cell_type": "code",
   "execution_count": 16,
   "id": "51b343e0-67e3-4a06-9a2c-76508c272e5d",
   "metadata": {},
   "outputs": [
    {
     "name": "stdout",
     "output_type": "stream",
     "text": [
      "184339\n"
     ]
    }
   ],
   "source": [
    "# Reading the halos data\n",
    "halos = Table.read(path+'halos/halos-mu_0.2-1_184339.dat', format='ascii')['halo_id','dec','halo_mass','redshift_true','ra']\n",
    "print(len(halos))"
   ]
  },
  {
   "cell_type": "code",
   "execution_count": 18,
   "id": "b745c90d-8894-4293-b448-a29eb9eaf648",
   "metadata": {},
   "outputs": [
    {
     "name": "stdout",
     "output_type": "stream",
     "text": [
      "Perfect match:  2097\n",
      "Unmatched redMaPPer clusters:  219\n",
      "Unmatched halos:  182242\n"
     ]
    }
   ],
   "source": [
    "# Cluster richness -  halo match and subsetting\n",
    "cluster_halo = astropy.table.join(clusters, halos, join_type='left', keys=['dec','ra'])\n",
    "cluster_halo_2097 = cluster_halo[~cluster_halo['redshift_true'].mask]\n",
    "cluster_halo_2097.rename_column(\"redshift\",'redshift_rm')\n",
    "# cluster_halo_2097.write('Data/cluster_halo_2097.dat', format='ascii')\n",
    "print('Perfect match: ',len(cluster_halo_2097))\n",
    "\n",
    "# Subsetting\n",
    "clusters_230 = setdiff(clusters,cluster_halo_2097,keys=['ra','dec']) # redMaPPer Cluster difference\n",
    "print(\"Unmatched redMaPPer clusters: \",len(clusters_230))\n",
    "halos_17187 = setdiff(halos,cluster_halo_2097, keys=['ra','dec']) # Halo difference\n",
    "print(\"Unmatched halos: \",len(halos_17187)) "
   ]
  },
  {
   "cell_type": "markdown",
   "id": "980d111f-124c-43a3-901e-3f1f442e037c",
   "metadata": {},
   "source": [
    "Preview of the perfect matched redMaPPer clusters and halos"
   ]
  },
  {
   "cell_type": "code",
   "execution_count": 19,
   "id": "5aad4863-ef87-413d-9e12-22b5992868d5",
   "metadata": {},
   "outputs": [
    {
     "data": {
      "text/html": [
       "<i>Table length=5</i>\n",
       "<table id=\"table23455344904512\" class=\"table-striped table-bordered table-condensed\">\n",
       "<thead><tr><th>dec</th><th>redshift_rm</th><th>ra</th><th>richness</th><th>halo_id</th><th>halo_mass</th><th>redshift_true</th></tr></thead>\n",
       "<thead><tr><th>float64</th><th>float64</th><th>float64</th><th>float64</th><th>int64</th><th>float64</th><th>float64</th></tr></thead>\n",
       "<tr><td>-46.353485065293</td><td>0.31254222989082336</td><td>52.619147720991805</td><td>30.315847396850586</td><td>161400186373</td><td>160563037544563.38</td><td>0.32279300689697266</td></tr>\n",
       "<tr><td>-46.18359671604251</td><td>0.45168444514274597</td><td>52.31113735250678</td><td>69.50587463378906</td><td>102000186338</td><td>232960977963267.62</td><td>0.4506502151489258</td></tr>\n",
       "<tr><td>-46.1767462390745</td><td>0.4642125964164734</td><td>52.531920366266014</td><td>41.650291442871094</td><td>1102300186338</td><td>181687442879098.6</td><td>0.4612843990325928</td></tr>\n",
       "<tr><td>-46.16720530369117</td><td>0.4202324450016022</td><td>58.97584431308542</td><td>31.17012596130371</td><td>193700188347</td><td>215909655335661.97</td><td>0.41100478172302246</td></tr>\n",
       "<tr><td>-46.163924487164145</td><td>0.8768643140792847</td><td>49.97233574403341</td><td>42.336769104003906</td><td>952100185266</td><td>279727349413859.16</td><td>0.8536334037780762</td></tr>\n",
       "</table>"
      ],
      "text/plain": [
       "<Table length=5>\n",
       "        dec             redshift_rm     ...    redshift_true   \n",
       "      float64             float64       ...       float64      \n",
       "------------------- ------------------- ... -------------------\n",
       "   -46.353485065293 0.31254222989082336 ... 0.32279300689697266\n",
       " -46.18359671604251 0.45168444514274597 ...  0.4506502151489258\n",
       "  -46.1767462390745  0.4642125964164734 ...  0.4612843990325928\n",
       " -46.16720530369117  0.4202324450016022 ... 0.41100478172302246\n",
       "-46.163924487164145  0.8768643140792847 ...  0.8536334037780762"
      ]
     },
     "execution_count": 19,
     "metadata": {},
     "output_type": "execute_result"
    }
   ],
   "source": [
    "cluster_halo_2097[:5]"
   ]
  },
  {
   "cell_type": "markdown",
   "id": "e4005cfe-c613-4924-8cc0-5a390591830c",
   "metadata": {},
   "source": [
    "Let us visualize the distribution of the difference between the halos redshift and the redMaPPer cluster redshift."
   ]
  },
  {
   "cell_type": "code",
   "execution_count": 23,
   "id": "1216ff79-1ca9-4028-a7ca-2af85d1b2a32",
   "metadata": {},
   "outputs": [
    {
     "data": {
      "text/plain": [
       "0.04468327760696411"
      ]
     },
     "execution_count": 23,
     "metadata": {},
     "output_type": "execute_result"
    },
    {
     "data": {
      "image/png": "[encoded data removed]",
      "text/plain": [
       "<Figure size 432x288 with 1 Axes>"
      ]
     },
     "metadata": {
      "needs_background": "light"
     },
     "output_type": "display_data"
    }
   ],
   "source": [
    "plt.hist(cluster_halo_2097['redshift_true']-cluster_halo_2097['redshift_rm'])\n",
    "plt.title('z_true-z_rm Distribution')\n",
    "plt.xlabel('z_true-z_rm')\n",
    "plt.ylabel('Count')\n",
    "plt.grid()\n",
    "np.max(cluster_halo_2097['redshift_true']-cluster_halo_2097['redshift_rm'])"
   ]
  },
  {
   "cell_type": "markdown",
   "id": "41e13a28-cb2e-41b6-a4f7-130a4204c4b3",
   "metadata": {},
   "source": [
    "The large difference between the two redshifts ranges between $-0.02$ and $0.02$, implying that the location of the redMaPPer clusters is consistent with that of the halos. "
   ]
  },
  {
   "cell_type": "code",
   "execution_count": null,
   "id": "58de8b81-1779-4b3a-aa82-abc2eea625af",
   "metadata": {},
   "outputs": [],
   "source": []
  }
 ],
 "metadata": {
  "kernelspec": {
   "display_name": "desc-python",
   "language": "python",
   "name": "desc-python"
  },
  "language_info": {
   "codemirror_mode": {
    "name": "ipython",
    "version": 3
   },
   "file_extension": ".py",
   "mimetype": "text/x-python",
   "name": "python",
   "nbconvert_exporter": "python",
   "pygments_lexer": "ipython3",
   "version": "3.8.8"
  }
 },
 "nbformat": 4,
 "nbformat_minor": 5
}
